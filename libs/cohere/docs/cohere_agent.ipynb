{
 "cells": [
  {
   "cell_type": "raw",
   "metadata": {},
   "source": [
    "---\n",
    "sidebar_position: 0\n",
    "---"
   ]
  },
  {
   "cell_type": "markdown",
   "metadata": {},
   "source": [
    "# Cohere Tools\n",
    "\n",
    "The following notebook goes over how to use the Cohere tools agent:"
   ]
  },
  {
   "cell_type": "markdown",
   "metadata": {},
   "source": [
    "Prerequisites for this notebook:"
   ]
  },
  {
   "cell_type": "code",
   "execution_count": 12,
   "metadata": {},
   "outputs": [
    {
     "name": "stdout",
     "output_type": "stream",
     "text": [
      "Requirement already satisfied: langchain in /Users/mohtashim/miniconda3/envs/cohere/lib/python3.12/site-packages (0.3.7)\n",
      "Requirement already satisfied: langchain-cohere in /Users/mohtashim/miniconda3/envs/cohere/lib/python3.12/site-packages (0.3.3)\n",
      "Requirement already satisfied: PyYAML>=5.3 in /Users/mohtashim/miniconda3/envs/cohere/lib/python3.12/site-packages (from langchain) (6.0.2)\n",
      "Requirement already satisfied: SQLAlchemy<3,>=1.4 in /Users/mohtashim/miniconda3/envs/cohere/lib/python3.12/site-packages (from langchain) (2.0.36)\n",
      "Requirement already satisfied: aiohttp<4.0.0,>=3.8.3 in /Users/mohtashim/miniconda3/envs/cohere/lib/python3.12/site-packages (from langchain) (3.11.7)\n",
      "Requirement already satisfied: langchain-core<0.4.0,>=0.3.15 in /Users/mohtashim/miniconda3/envs/cohere/lib/python3.12/site-packages (from langchain) (0.3.19)\n",
      "Requirement already satisfied: langchain-text-splitters<0.4.0,>=0.3.0 in /Users/mohtashim/miniconda3/envs/cohere/lib/python3.12/site-packages (from langchain) (0.3.2)\n",
      "Requirement already satisfied: langsmith<0.2.0,>=0.1.17 in /Users/mohtashim/miniconda3/envs/cohere/lib/python3.12/site-packages (from langchain) (0.1.144)\n",
      "Requirement already satisfied: numpy<2.0.0,>=1.26.0 in /Users/mohtashim/miniconda3/envs/cohere/lib/python3.12/site-packages (from langchain) (1.26.4)\n",
      "Requirement already satisfied: pydantic<3.0.0,>=2.7.4 in /Users/mohtashim/miniconda3/envs/cohere/lib/python3.12/site-packages (from langchain) (2.10.0)\n",
      "Requirement already satisfied: requests<3,>=2 in /Users/mohtashim/miniconda3/envs/cohere/lib/python3.12/site-packages (from langchain) (2.32.3)\n",
      "Requirement already satisfied: tenacity!=8.4.0,<10,>=8.1.0 in /Users/mohtashim/miniconda3/envs/cohere/lib/python3.12/site-packages (from langchain) (9.0.0)\n",
      "Requirement already satisfied: cohere<6.0,>=5.5.6 in /Users/mohtashim/miniconda3/envs/cohere/lib/python3.12/site-packages (from langchain-cohere) (5.11.4)\n",
      "Requirement already satisfied: langchain-experimental<0.4.0,>=0.3.0 in /Users/mohtashim/miniconda3/envs/cohere/lib/python3.12/site-packages (from langchain-cohere) (0.3.3)\n",
      "Requirement already satisfied: pandas>=1.4.3 in /Users/mohtashim/miniconda3/envs/cohere/lib/python3.12/site-packages (from langchain-cohere) (2.2.3)\n",
      "Requirement already satisfied: tabulate<0.10.0,>=0.9.0 in /Users/mohtashim/miniconda3/envs/cohere/lib/python3.12/site-packages (from langchain-cohere) (0.9.0)\n",
      "Requirement already satisfied: aiohappyeyeballs>=2.3.0 in /Users/mohtashim/miniconda3/envs/cohere/lib/python3.12/site-packages (from aiohttp<4.0.0,>=3.8.3->langchain) (2.4.3)\n",
      "Requirement already satisfied: aiosignal>=1.1.2 in /Users/mohtashim/miniconda3/envs/cohere/lib/python3.12/site-packages (from aiohttp<4.0.0,>=3.8.3->langchain) (1.3.1)\n",
      "Requirement already satisfied: attrs>=17.3.0 in /Users/mohtashim/miniconda3/envs/cohere/lib/python3.12/site-packages (from aiohttp<4.0.0,>=3.8.3->langchain) (24.2.0)\n",
      "Requirement already satisfied: frozenlist>=1.1.1 in /Users/mohtashim/miniconda3/envs/cohere/lib/python3.12/site-packages (from aiohttp<4.0.0,>=3.8.3->langchain) (1.5.0)\n",
      "Requirement already satisfied: multidict<7.0,>=4.5 in /Users/mohtashim/miniconda3/envs/cohere/lib/python3.12/site-packages (from aiohttp<4.0.0,>=3.8.3->langchain) (6.1.0)\n",
      "Requirement already satisfied: propcache>=0.2.0 in /Users/mohtashim/miniconda3/envs/cohere/lib/python3.12/site-packages (from aiohttp<4.0.0,>=3.8.3->langchain) (0.2.0)\n",
      "Requirement already satisfied: yarl<2.0,>=1.17.0 in /Users/mohtashim/miniconda3/envs/cohere/lib/python3.12/site-packages (from aiohttp<4.0.0,>=3.8.3->langchain) (1.18.0)\n",
      "Requirement already satisfied: fastavro<2.0.0,>=1.9.4 in /Users/mohtashim/miniconda3/envs/cohere/lib/python3.12/site-packages (from cohere<6.0,>=5.5.6->langchain-cohere) (1.9.7)\n",
      "Requirement already satisfied: httpx>=0.21.2 in /Users/mohtashim/miniconda3/envs/cohere/lib/python3.12/site-packages (from cohere<6.0,>=5.5.6->langchain-cohere) (0.27.2)\n",
      "Requirement already satisfied: httpx-sse==0.4.0 in /Users/mohtashim/miniconda3/envs/cohere/lib/python3.12/site-packages (from cohere<6.0,>=5.5.6->langchain-cohere) (0.4.0)\n",
      "Requirement already satisfied: parameterized<0.10.0,>=0.9.0 in /Users/mohtashim/miniconda3/envs/cohere/lib/python3.12/site-packages (from cohere<6.0,>=5.5.6->langchain-cohere) (0.9.0)\n",
      "Requirement already satisfied: pydantic-core<3.0.0,>=2.18.2 in /Users/mohtashim/miniconda3/envs/cohere/lib/python3.12/site-packages (from cohere<6.0,>=5.5.6->langchain-cohere) (2.27.0)\n",
      "Requirement already satisfied: tokenizers<1,>=0.15 in /Users/mohtashim/miniconda3/envs/cohere/lib/python3.12/site-packages (from cohere<6.0,>=5.5.6->langchain-cohere) (0.20.3)\n",
      "Requirement already satisfied: types-requests<3.0.0,>=2.0.0 in /Users/mohtashim/miniconda3/envs/cohere/lib/python3.12/site-packages (from cohere<6.0,>=5.5.6->langchain-cohere) (2.32.0.20241016)\n",
      "Requirement already satisfied: typing_extensions>=4.0.0 in /Users/mohtashim/miniconda3/envs/cohere/lib/python3.12/site-packages (from cohere<6.0,>=5.5.6->langchain-cohere) (4.12.2)\n",
      "Requirement already satisfied: jsonpatch<2.0,>=1.33 in /Users/mohtashim/miniconda3/envs/cohere/lib/python3.12/site-packages (from langchain-core<0.4.0,>=0.3.15->langchain) (1.33)\n",
      "Requirement already satisfied: packaging<25,>=23.2 in /Users/mohtashim/miniconda3/envs/cohere/lib/python3.12/site-packages (from langchain-core<0.4.0,>=0.3.15->langchain) (24.2)\n",
      "Requirement already satisfied: langchain-community<0.4.0,>=0.3.0 in /Users/mohtashim/miniconda3/envs/cohere/lib/python3.12/site-packages (from langchain-experimental<0.4.0,>=0.3.0->langchain-cohere) (0.3.4)\n",
      "Requirement already satisfied: orjson<4.0.0,>=3.9.14 in /Users/mohtashim/miniconda3/envs/cohere/lib/python3.12/site-packages (from langsmith<0.2.0,>=0.1.17->langchain) (3.10.11)\n",
      "Requirement already satisfied: requests-toolbelt<2.0.0,>=1.0.0 in /Users/mohtashim/miniconda3/envs/cohere/lib/python3.12/site-packages (from langsmith<0.2.0,>=0.1.17->langchain) (1.0.0)\n",
      "Requirement already satisfied: python-dateutil>=2.8.2 in /Users/mohtashim/miniconda3/envs/cohere/lib/python3.12/site-packages (from pandas>=1.4.3->langchain-cohere) (2.9.0.post0)\n",
      "Requirement already satisfied: pytz>=2020.1 in /Users/mohtashim/miniconda3/envs/cohere/lib/python3.12/site-packages (from pandas>=1.4.3->langchain-cohere) (2024.2)\n",
      "Requirement already satisfied: tzdata>=2022.7 in /Users/mohtashim/miniconda3/envs/cohere/lib/python3.12/site-packages (from pandas>=1.4.3->langchain-cohere) (2024.2)\n",
      "Requirement already satisfied: annotated-types>=0.6.0 in /Users/mohtashim/miniconda3/envs/cohere/lib/python3.12/site-packages (from pydantic<3.0.0,>=2.7.4->langchain) (0.7.0)\n",
      "Requirement already satisfied: charset-normalizer<4,>=2 in /Users/mohtashim/miniconda3/envs/cohere/lib/python3.12/site-packages (from requests<3,>=2->langchain) (3.4.0)\n",
      "Requirement already satisfied: idna<4,>=2.5 in /Users/mohtashim/miniconda3/envs/cohere/lib/python3.12/site-packages (from requests<3,>=2->langchain) (3.10)\n",
      "Requirement already satisfied: urllib3<3,>=1.21.1 in /Users/mohtashim/miniconda3/envs/cohere/lib/python3.12/site-packages (from requests<3,>=2->langchain) (2.2.3)\n",
      "Requirement already satisfied: certifi>=2017.4.17 in /Users/mohtashim/miniconda3/envs/cohere/lib/python3.12/site-packages (from requests<3,>=2->langchain) (2024.8.30)\n",
      "Requirement already satisfied: anyio in /Users/mohtashim/miniconda3/envs/cohere/lib/python3.12/site-packages (from httpx>=0.21.2->cohere<6.0,>=5.5.6->langchain-cohere) (4.6.2.post1)\n",
      "Requirement already satisfied: httpcore==1.* in /Users/mohtashim/miniconda3/envs/cohere/lib/python3.12/site-packages (from httpx>=0.21.2->cohere<6.0,>=5.5.6->langchain-cohere) (1.0.7)\n",
      "Requirement already satisfied: sniffio in /Users/mohtashim/miniconda3/envs/cohere/lib/python3.12/site-packages (from httpx>=0.21.2->cohere<6.0,>=5.5.6->langchain-cohere) (1.3.1)\n",
      "Requirement already satisfied: h11<0.15,>=0.13 in /Users/mohtashim/miniconda3/envs/cohere/lib/python3.12/site-packages (from httpcore==1.*->httpx>=0.21.2->cohere<6.0,>=5.5.6->langchain-cohere) (0.14.0)\n",
      "Requirement already satisfied: jsonpointer>=1.9 in /Users/mohtashim/miniconda3/envs/cohere/lib/python3.12/site-packages (from jsonpatch<2.0,>=1.33->langchain-core<0.4.0,>=0.3.15->langchain) (3.0.0)\n",
      "Requirement already satisfied: dataclasses-json<0.7,>=0.5.7 in /Users/mohtashim/miniconda3/envs/cohere/lib/python3.12/site-packages (from langchain-community<0.4.0,>=0.3.0->langchain-experimental<0.4.0,>=0.3.0->langchain-cohere) (0.6.7)\n",
      "Requirement already satisfied: pydantic-settings<3.0.0,>=2.4.0 in /Users/mohtashim/miniconda3/envs/cohere/lib/python3.12/site-packages (from langchain-community<0.4.0,>=0.3.0->langchain-experimental<0.4.0,>=0.3.0->langchain-cohere) (2.6.1)\n",
      "Requirement already satisfied: six>=1.5 in /Users/mohtashim/miniconda3/envs/cohere/lib/python3.12/site-packages (from python-dateutil>=2.8.2->pandas>=1.4.3->langchain-cohere) (1.16.0)\n",
      "Requirement already satisfied: huggingface-hub<1.0,>=0.16.4 in /Users/mohtashim/miniconda3/envs/cohere/lib/python3.12/site-packages (from tokenizers<1,>=0.15->cohere<6.0,>=5.5.6->langchain-cohere) (0.26.2)\n",
      "Requirement already satisfied: marshmallow<4.0.0,>=3.18.0 in /Users/mohtashim/miniconda3/envs/cohere/lib/python3.12/site-packages (from dataclasses-json<0.7,>=0.5.7->langchain-community<0.4.0,>=0.3.0->langchain-experimental<0.4.0,>=0.3.0->langchain-cohere) (3.23.1)\n",
      "Requirement already satisfied: typing-inspect<1,>=0.4.0 in /Users/mohtashim/miniconda3/envs/cohere/lib/python3.12/site-packages (from dataclasses-json<0.7,>=0.5.7->langchain-community<0.4.0,>=0.3.0->langchain-experimental<0.4.0,>=0.3.0->langchain-cohere) (0.9.0)\n",
      "Requirement already satisfied: filelock in /Users/mohtashim/miniconda3/envs/cohere/lib/python3.12/site-packages (from huggingface-hub<1.0,>=0.16.4->tokenizers<1,>=0.15->cohere<6.0,>=5.5.6->langchain-cohere) (3.16.1)\n",
      "Requirement already satisfied: fsspec>=2023.5.0 in /Users/mohtashim/miniconda3/envs/cohere/lib/python3.12/site-packages (from huggingface-hub<1.0,>=0.16.4->tokenizers<1,>=0.15->cohere<6.0,>=5.5.6->langchain-cohere) (2024.10.0)\n",
      "Requirement already satisfied: tqdm>=4.42.1 in /Users/mohtashim/miniconda3/envs/cohere/lib/python3.12/site-packages (from huggingface-hub<1.0,>=0.16.4->tokenizers<1,>=0.15->cohere<6.0,>=5.5.6->langchain-cohere) (4.67.0)\n",
      "Requirement already satisfied: python-dotenv>=0.21.0 in /Users/mohtashim/miniconda3/envs/cohere/lib/python3.12/site-packages (from pydantic-settings<3.0.0,>=2.4.0->langchain-community<0.4.0,>=0.3.0->langchain-experimental<0.4.0,>=0.3.0->langchain-cohere) (1.0.1)\n",
      "Requirement already satisfied: mypy-extensions>=0.3.0 in /Users/mohtashim/miniconda3/envs/cohere/lib/python3.12/site-packages (from typing-inspect<1,>=0.4.0->dataclasses-json<0.7,>=0.5.7->langchain-community<0.4.0,>=0.3.0->langchain-experimental<0.4.0,>=0.3.0->langchain-cohere) (1.0.0)\n",
      "Requirement already satisfied: wikipedia in /Users/mohtashim/miniconda3/envs/cohere/lib/python3.12/site-packages (1.4.0)\n",
      "Requirement already satisfied: beautifulsoup4 in /Users/mohtashim/miniconda3/envs/cohere/lib/python3.12/site-packages (from wikipedia) (4.12.3)\n",
      "Requirement already satisfied: requests<3.0.0,>=2.0.0 in /Users/mohtashim/miniconda3/envs/cohere/lib/python3.12/site-packages (from wikipedia) (2.32.3)\n",
      "Requirement already satisfied: charset-normalizer<4,>=2 in /Users/mohtashim/miniconda3/envs/cohere/lib/python3.12/site-packages (from requests<3.0.0,>=2.0.0->wikipedia) (3.4.0)\n",
      "Requirement already satisfied: idna<4,>=2.5 in /Users/mohtashim/miniconda3/envs/cohere/lib/python3.12/site-packages (from requests<3.0.0,>=2.0.0->wikipedia) (3.10)\n",
      "Requirement already satisfied: urllib3<3,>=1.21.1 in /Users/mohtashim/miniconda3/envs/cohere/lib/python3.12/site-packages (from requests<3.0.0,>=2.0.0->wikipedia) (2.2.3)\n",
      "Requirement already satisfied: certifi>=2017.4.17 in /Users/mohtashim/miniconda3/envs/cohere/lib/python3.12/site-packages (from requests<3.0.0,>=2.0.0->wikipedia) (2024.8.30)\n",
      "Requirement already satisfied: soupsieve>1.2 in /Users/mohtashim/miniconda3/envs/cohere/lib/python3.12/site-packages (from beautifulsoup4->wikipedia) (2.6)\n"
     ]
    }
   ],
   "source": [
    "# install package\n",
    "!pip install langchain langchain-cohere\n",
    "!pip install wikipedia"
   ]
  },
  {
   "cell_type": "code",
   "execution_count": 13,
   "metadata": {},
   "outputs": [],
   "source": [
    "from langchain.agents import AgentExecutor\n",
    "from langchain.retrievers import WikipediaRetriever\n",
    "from langchain.tools.retriever import create_retriever_tool\n",
    "from langchain_cohere import create_cohere_tools_agent, ChatCohere\n",
    "from langchain_core.prompts import ChatPromptTemplate, MessagesPlaceholder"
   ]
  },
  {
   "cell_type": "markdown",
   "metadata": {},
   "source": [
    "Next we create the prompt template and cohere model"
   ]
  },
  {
   "cell_type": "code",
   "execution_count": null,
   "metadata": {},
   "outputs": [],
   "source": [
    "prompt = ChatPromptTemplate.from_messages(\n",
    "                [\n",
    "                    (\"system\", \"You are a helpful assistant who answer user question using tool `wikipedia`\"),\n",
    "                    (\"human\", \"Write all output in capital letters. {input}\"),\n",
    "                    MessagesPlaceholder(\"agent_scratchpad\"),\n",
    "                ]\n",
    "            )\n",
    "# Create the Cohere chat model\n",
    "chat = ChatCohere(cohere_api_key=\"API_KEY\", model=\"command-r\")"
   ]
  },
  {
   "cell_type": "markdown",
   "metadata": {},
   "source": [
    "In this example we use a Wikipedia retrieval tool "
   ]
  },
  {
   "cell_type": "code",
   "execution_count": 15,
   "metadata": {},
   "outputs": [],
   "source": [
    "retriever = WikipediaRetriever()\n",
    "retriever_tool = create_retriever_tool(\n",
    "    retriever,\n",
    "    \"wikipedia\",\n",
    "    \"Search for information on Wikipedia\",\n",
    ")"
   ]
  },
  {
   "cell_type": "markdown",
   "metadata": {},
   "source": [
    "Next, create the cohere tool agent and call with the input"
   ]
  },
  {
   "cell_type": "code",
   "execution_count": 16,
   "metadata": {},
   "outputs": [
    {
     "name": "stdout",
     "output_type": "stream",
     "text": [
      "\n",
      "\n",
      "\u001b[1m> Entering new AgentExecutor chain...\u001b[0m\n",
      "\u001b[32;1m\u001b[1;3m\n",
      "Invoking: `wikipedia` with `{\n",
      "    \"query\": \"cohere founder\"\n",
      "}`\n",
      "\n",
      "\u001b[0m\u001b[36;1m\u001b[1;3m\u001b[0m\u001b[32;1m\u001b[1;3m\u001b[0m\n",
      "\n",
      "\u001b[1m> Finished chain.\u001b[0m\n"
     ]
    },
    {
     "data": {
      "text/plain": [
       "{'input': 'Who founded Cohere?',\n",
       " 'text': 'ADAM PLEWS AND AIDAN GOSNEY FOUNDED COHERE.',\n",
       " 'additional_info': {}}"
      ]
     },
     "execution_count": 16,
     "metadata": {},
     "output_type": "execute_result"
    }
   ],
   "source": [
    "agent = create_cohere_tools_agent(\n",
    "    llm=chat,\n",
    "    tools=[retriever_tool],\n",
    "    prompt=prompt,\n",
    ")\n",
    "agent_executor = AgentExecutor(agent=agent, tools=[retriever_tool], verbose=True)\n",
    "agent_executor.invoke({\"input\": \"Who founded Cohere?\"})"
   ]
  }
 ],
 "metadata": {
  "kernelspec": {
   "display_name": "cohere",
   "language": "python",
   "name": "python3"
  },
  "language_info": {
   "codemirror_mode": {
    "name": "ipython",
    "version": 3
   },
   "file_extension": ".py",
   "mimetype": "text/x-python",
   "name": "python",
   "nbconvert_exporter": "python",
   "pygments_lexer": "ipython3",
   "version": "3.12.7"
  }
 },
 "nbformat": 4,
 "nbformat_minor": 4
}
